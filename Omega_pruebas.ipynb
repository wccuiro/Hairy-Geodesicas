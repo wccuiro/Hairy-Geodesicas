{
 "cells": [
  {
   "cell_type": "code",
   "execution_count": 9,
   "id": "waiting-demographic",
   "metadata": {},
   "outputs": [
    {
     "name": "stdout",
     "output_type": "stream",
     "text": [
      "[0.0092301]\n",
      "4177124.7299536536\n"
     ]
    }
   ],
   "source": [
    "import black_hole as bh\n",
    "#bh.black_hole(-40, 3.252719443, 1.76).omega(1.22)\n",
    "print(bh.black_hole(1, 12.52655373, 1.52).horizonte_hairy())\n",
    "print(bh.black_hole(1, 12.52655373, 1.52).masa())"
   ]
  },
  {
   "cell_type": "code",
   "execution_count": 3,
   "id": "naughty-bahamas",
   "metadata": {},
   "outputs": [
    {
     "data": {
      "text/plain": [
       "-6.906086813529555e-11"
      ]
     },
     "execution_count": 3,
     "metadata": {},
     "output_type": "execute_result"
    }
   ],
   "source": [
    "bh.black_hole(1, 12.52655373, 1.52).f(0.00004976229299205893)"
   ]
  },
  {
   "cell_type": "code",
   "execution_count": 17,
   "id": "joint-ukraine",
   "metadata": {},
   "outputs": [
    {
     "data": {
      "text/plain": [
       "0.0"
      ]
     },
     "execution_count": 17,
     "metadata": {},
     "output_type": "execute_result"
    }
   ],
   "source": [
    "bh.black_hole( 1, 12.52655373, 1.52).f(497622930041558600495444616477489980685333500938643628288246241707150588257975856181915617853440e-100)"
   ]
  },
  {
   "cell_type": "code",
   "execution_count": 11,
   "id": "bigger-laugh",
   "metadata": {},
   "outputs": [
    {
     "name": "stdout",
     "output_type": "stream",
     "text": [
      "[0.00590582]\n",
      "4177124.7304042205\n"
     ]
    }
   ],
   "source": [
    "print(bh.black_hole(-40, 3.252719443, 1.76).horizonte_hairy())\n",
    "print(bh.black_hole(-40, 3.252719443, 1.76).masa())"
   ]
  },
  {
   "cell_type": "code",
   "execution_count": null,
   "id": "phantom-partnership",
   "metadata": {},
   "outputs": [],
   "source": []
  }
 ],
 "metadata": {
  "kernelspec": {
   "display_name": "Python 3",
   "language": "python",
   "name": "python3"
  },
  "language_info": {
   "codemirror_mode": {
    "name": "ipython",
    "version": 3
   },
   "file_extension": ".py",
   "mimetype": "text/x-python",
   "name": "python",
   "nbconvert_exporter": "python",
   "pygments_lexer": "ipython3",
   "version": "3.9.1"
  }
 },
 "nbformat": 4,
 "nbformat_minor": 5
}
